{
 "cells": [
  {
   "cell_type": "code",
   "execution_count": 70,
   "metadata": {},
   "outputs": [],
   "source": [
    "# Import the required libraries\n",
    "import numpy as np\n",
    "import tensorflow as tf\n",
    "from keras.datasets import mnist\n",
    "from keras.models import Sequential\n",
    "from keras.layers import Dense, Dropout\n",
    "from keras.utils import np_utils"
   ]
  },
  {
   "cell_type": "code",
   "execution_count": 71,
   "metadata": {},
   "outputs": [],
   "source": [
    "# Load the MNIST dataset\n",
    "(X_train, y_train), (X_test, y_test) = mnist.load_data()"
   ]
  },
  {
   "cell_type": "code",
   "execution_count": 72,
   "metadata": {},
   "outputs": [],
   "source": [
    "# Preprocess the data\n",
    "X_train = X_train.reshape(X_train.shape[0], 28*28).astype('float32') / 255\n",
    "X_test = X_test.reshape(X_test.shape[0], 28*28).astype('float32') / 255\n",
    "y_train = np_utils.to_categorical(y_train)\n",
    "y_test = np_utils.to_categorical(y_test)"
   ]
  },
  {
   "cell_type": "code",
   "execution_count": 73,
   "metadata": {},
   "outputs": [
    {
     "name": "stdout",
     "output_type": "stream",
     "text": [
      "Model: \"sequential_16\"\n",
      "_________________________________________________________________\n",
      " Layer (type)                Output Shape              Param #   \n",
      "=================================================================\n",
      " dense_38 (Dense)            (None, 28)                21980     \n",
      "                                                                 \n",
      " dense_39 (Dense)            (None, 14)                406       \n",
      "                                                                 \n",
      " dense_40 (Dense)            (None, 10)                150       \n",
      "                                                                 \n"
     ]
    },
    {
     "name": "stdout",
     "output_type": "stream",
     "text": [
      "=================================================================\n",
      "Total params: 22,536\n",
      "Trainable params: 22,536\n",
      "Non-trainable params: 0\n",
      "_________________________________________________________________\n"
     ]
    }
   ],
   "source": [
    "# Define the model architecture\n",
    "model = Sequential()\n",
    "model.add(Dense(28, input_shape=(28*28,), activation='relu'))\n",
    "model.add(Dense(14, activation='relu'))\n",
    "model.add(Dense(10, activation='softmax'))\n",
    "\n",
    "model.summary()"
   ]
  },
  {
   "cell_type": "code",
   "execution_count": 74,
   "metadata": {},
   "outputs": [],
   "source": [
    "# Define optimizer\n",
    "optimizer = tf.keras.optimizers.Adam(learning_rate=0.01)\n",
    "\n",
    "# Compile the model\n",
    "model.compile(loss='categorical_crossentropy', optimizer=optimizer, metrics=['accuracy'])"
   ]
  },
  {
   "cell_type": "code",
   "execution_count": 75,
   "metadata": {},
   "outputs": [
    {
     "name": "stdout",
     "output_type": "stream",
     "text": [
      "Epoch 1/50\n",
      "469/469 [==============================] - 2s 4ms/step - loss: 0.3404 - accuracy: 0.8979 - val_loss: 0.2068 - val_accuracy: 0.9373\n",
      "Epoch 2/50\n",
      "469/469 [==============================] - 1s 3ms/step - loss: 0.1833 - accuracy: 0.9451 - val_loss: 0.1967 - val_accuracy: 0.9423\n",
      "Epoch 3/50\n",
      "469/469 [==============================] - 1s 3ms/step - loss: 0.1603 - accuracy: 0.9529 - val_loss: 0.1822 - val_accuracy: 0.9486\n",
      "Epoch 4/50\n",
      "469/469 [==============================] - 2s 3ms/step - loss: 0.1394 - accuracy: 0.9581 - val_loss: 0.1999 - val_accuracy: 0.9438\n",
      "Epoch 5/50\n",
      "469/469 [==============================] - 1s 3ms/step - loss: 0.1311 - accuracy: 0.9611 - val_loss: 0.1686 - val_accuracy: 0.9533\n",
      "Epoch 6/50\n",
      "469/469 [==============================] - 1s 3ms/step - loss: 0.1262 - accuracy: 0.9626 - val_loss: 0.1954 - val_accuracy: 0.9491\n",
      "Epoch 7/50\n",
      "469/469 [==============================] - 1s 3ms/step - loss: 0.1210 - accuracy: 0.9631 - val_loss: 0.1643 - val_accuracy: 0.9576\n",
      "Epoch 8/50\n",
      "469/469 [==============================] - 2s 3ms/step - loss: 0.1223 - accuracy: 0.9640 - val_loss: 0.1756 - val_accuracy: 0.9553\n",
      "Epoch 9/50\n",
      "469/469 [==============================] - 3s 6ms/step - loss: 0.1130 - accuracy: 0.9656 - val_loss: 0.1692 - val_accuracy: 0.9580\n",
      "Epoch 10/50\n",
      "469/469 [==============================] - 2s 3ms/step - loss: 0.1115 - accuracy: 0.9661 - val_loss: 0.1769 - val_accuracy: 0.9519\n",
      "Epoch 11/50\n",
      "469/469 [==============================] - 1s 3ms/step - loss: 0.1089 - accuracy: 0.9676 - val_loss: 0.1869 - val_accuracy: 0.9536\n",
      "Epoch 12/50\n",
      "469/469 [==============================] - 2s 3ms/step - loss: 0.1030 - accuracy: 0.9692 - val_loss: 0.1814 - val_accuracy: 0.9540\n",
      "Epoch 13/50\n",
      "469/469 [==============================] - 2s 3ms/step - loss: 0.1062 - accuracy: 0.9684 - val_loss: 0.1842 - val_accuracy: 0.9539\n",
      "Epoch 14/50\n",
      "469/469 [==============================] - 2s 3ms/step - loss: 0.1025 - accuracy: 0.9694 - val_loss: 0.1710 - val_accuracy: 0.9586\n",
      "Epoch 15/50\n",
      "469/469 [==============================] - 1s 3ms/step - loss: 0.0989 - accuracy: 0.9697 - val_loss: 0.2008 - val_accuracy: 0.9540\n",
      "Epoch 16/50\n",
      "469/469 [==============================] - 1s 3ms/step - loss: 0.0965 - accuracy: 0.9705 - val_loss: 0.1763 - val_accuracy: 0.9553\n",
      "Epoch 17/50\n",
      "469/469 [==============================] - 1s 3ms/step - loss: 0.0964 - accuracy: 0.9710 - val_loss: 0.1747 - val_accuracy: 0.9565\n",
      "Epoch 18/50\n",
      "469/469 [==============================] - 1s 3ms/step - loss: 0.0931 - accuracy: 0.9719 - val_loss: 0.2016 - val_accuracy: 0.9544\n",
      "Epoch 19/50\n",
      "469/469 [==============================] - 2s 3ms/step - loss: 0.0897 - accuracy: 0.9730 - val_loss: 0.1868 - val_accuracy: 0.9538\n",
      "Epoch 20/50\n",
      "469/469 [==============================] - 2s 3ms/step - loss: 0.0880 - accuracy: 0.9733 - val_loss: 0.1979 - val_accuracy: 0.9537\n",
      "Epoch 21/50\n",
      "469/469 [==============================] - 1s 3ms/step - loss: 0.0873 - accuracy: 0.9731 - val_loss: 0.1895 - val_accuracy: 0.9572\n",
      "Epoch 22/50\n",
      "469/469 [==============================] - 2s 4ms/step - loss: 0.0875 - accuracy: 0.9731 - val_loss: 0.1918 - val_accuracy: 0.9562\n",
      "Epoch 23/50\n",
      "469/469 [==============================] - 2s 3ms/step - loss: 0.0891 - accuracy: 0.9732 - val_loss: 0.2002 - val_accuracy: 0.9540\n",
      "Epoch 24/50\n",
      "469/469 [==============================] - 2s 4ms/step - loss: 0.0853 - accuracy: 0.9738 - val_loss: 0.1912 - val_accuracy: 0.9575\n",
      "Epoch 25/50\n",
      "469/469 [==============================] - 2s 3ms/step - loss: 0.0828 - accuracy: 0.9743 - val_loss: 0.1916 - val_accuracy: 0.9584\n",
      "Epoch 26/50\n",
      "469/469 [==============================] - 1s 3ms/step - loss: 0.0802 - accuracy: 0.9756 - val_loss: 0.2006 - val_accuracy: 0.9565\n",
      "Epoch 27/50\n",
      "469/469 [==============================] - 2s 3ms/step - loss: 0.0852 - accuracy: 0.9741 - val_loss: 0.1912 - val_accuracy: 0.9611\n",
      "Epoch 28/50\n",
      "469/469 [==============================] - 2s 4ms/step - loss: 0.0859 - accuracy: 0.9742 - val_loss: 0.2055 - val_accuracy: 0.9562\n",
      "Epoch 29/50\n",
      "469/469 [==============================] - 2s 3ms/step - loss: 0.0791 - accuracy: 0.9763 - val_loss: 0.2134 - val_accuracy: 0.9565\n",
      "Epoch 30/50\n",
      "469/469 [==============================] - 2s 3ms/step - loss: 0.0819 - accuracy: 0.9754 - val_loss: 0.2035 - val_accuracy: 0.9570\n",
      "Epoch 31/50\n",
      "469/469 [==============================] - 2s 3ms/step - loss: 0.0790 - accuracy: 0.9758 - val_loss: 0.1979 - val_accuracy: 0.9589\n",
      "Epoch 32/50\n",
      "469/469 [==============================] - 2s 4ms/step - loss: 0.0798 - accuracy: 0.9755 - val_loss: 0.2109 - val_accuracy: 0.9575\n",
      "Epoch 33/50\n",
      "469/469 [==============================] - 2s 4ms/step - loss: 0.0752 - accuracy: 0.9766 - val_loss: 0.2226 - val_accuracy: 0.9555\n",
      "Epoch 34/50\n",
      "469/469 [==============================] - 2s 3ms/step - loss: 0.0761 - accuracy: 0.9759 - val_loss: 0.2241 - val_accuracy: 0.9557\n",
      "Epoch 35/50\n",
      "469/469 [==============================] - 2s 4ms/step - loss: 0.0746 - accuracy: 0.9772 - val_loss: 0.2276 - val_accuracy: 0.9539\n",
      "Epoch 36/50\n",
      "469/469 [==============================] - 2s 4ms/step - loss: 0.0796 - accuracy: 0.9757 - val_loss: 0.2202 - val_accuracy: 0.9557\n",
      "Epoch 37/50\n",
      "469/469 [==============================] - 2s 4ms/step - loss: 0.0773 - accuracy: 0.9762 - val_loss: 0.2355 - val_accuracy: 0.9539\n",
      "Epoch 38/50\n",
      "469/469 [==============================] - 1s 3ms/step - loss: 0.0771 - accuracy: 0.9761 - val_loss: 0.2442 - val_accuracy: 0.9553\n",
      "Epoch 39/50\n",
      "469/469 [==============================] - 1s 3ms/step - loss: 0.0729 - accuracy: 0.9780 - val_loss: 0.2313 - val_accuracy: 0.9551\n",
      "Epoch 40/50\n",
      "469/469 [==============================] - 2s 3ms/step - loss: 0.0757 - accuracy: 0.9775 - val_loss: 0.2269 - val_accuracy: 0.9557\n",
      "Epoch 41/50\n",
      "469/469 [==============================] - 2s 3ms/step - loss: 0.0712 - accuracy: 0.9779 - val_loss: 0.2313 - val_accuracy: 0.9552\n",
      "Epoch 42/50\n",
      "469/469 [==============================] - 2s 4ms/step - loss: 0.0732 - accuracy: 0.9779 - val_loss: 0.2264 - val_accuracy: 0.9564\n",
      "Epoch 43/50\n",
      "469/469 [==============================] - 2s 4ms/step - loss: 0.0664 - accuracy: 0.9796 - val_loss: 0.2243 - val_accuracy: 0.9572\n",
      "Epoch 44/50\n",
      "469/469 [==============================] - 2s 5ms/step - loss: 0.0713 - accuracy: 0.9783 - val_loss: 0.2432 - val_accuracy: 0.9556\n",
      "Epoch 45/50\n",
      "469/469 [==============================] - 2s 5ms/step - loss: 0.0723 - accuracy: 0.9777 - val_loss: 0.2433 - val_accuracy: 0.9507\n",
      "Epoch 46/50\n",
      "469/469 [==============================] - 2s 4ms/step - loss: 0.0673 - accuracy: 0.9800 - val_loss: 0.2478 - val_accuracy: 0.9566\n",
      "Epoch 47/50\n",
      "469/469 [==============================] - 2s 4ms/step - loss: 0.0679 - accuracy: 0.9793 - val_loss: 0.2429 - val_accuracy: 0.9555\n",
      "Epoch 48/50\n",
      "469/469 [==============================] - 2s 4ms/step - loss: 0.0748 - accuracy: 0.9775 - val_loss: 0.2386 - val_accuracy: 0.9557\n",
      "Epoch 49/50\n",
      "469/469 [==============================] - 2s 4ms/step - loss: 0.0691 - accuracy: 0.9791 - val_loss: 0.2329 - val_accuracy: 0.9577\n",
      "Epoch 50/50\n",
      "469/469 [==============================] - 2s 3ms/step - loss: 0.0732 - accuracy: 0.9778 - val_loss: 0.2586 - val_accuracy: 0.9524\n"
     ]
    }
   ],
   "source": [
    "# Train the model\n",
    "history = model.fit(X_train, y_train, validation_data=(X_test, y_test), epochs=50, batch_size=128)"
   ]
  },
  {
   "cell_type": "code",
   "execution_count": 78,
   "metadata": {},
   "outputs": [
    {
     "data": {
      "image/png": "[encoded data removed]",
      "text/plain": [
       "<Figure size 640x480 with 1 Axes>"
      ]
     },
     "metadata": {},
     "output_type": "display_data"
    }
   ],
   "source": [
    "# Plot the training history\n",
    "import matplotlib.pyplot as plt\n",
    "plt.plot(history.history['accuracy'])\n",
    "plt.plot(history.history['val_accuracy'])\n",
    "plt.title('Model accuracy')\n",
    "plt.ylabel('Accuracy')\n",
    "plt.xlabel('Epoch')\n",
    "plt.legend(['Train', 'Test'], loc='upper left')\n",
    "plt.show()"
   ]
  },
  {
   "cell_type": "code",
   "execution_count": 79,
   "metadata": {},
   "outputs": [
    {
     "name": "stdout",
     "output_type": "stream",
     "text": [
      "Test accuracy: 0.9524000287055969\n"
     ]
    }
   ],
   "source": [
    "# Evaluate the model\n",
    "scores = model.evaluate(X_test, y_test, verbose=0)\n",
    "print(\"Test accuracy:\", scores[1])"
   ]
  }
 ],
 "metadata": {
  "kernelspec": {
   "display_name": "tensorflow",
   "language": "python",
   "name": "python3"
  },
  "language_info": {
   "codemirror_mode": {
    "name": "ipython",
    "version": 3
   },
   "file_extension": ".py",
   "mimetype": "text/x-python",
   "name": "python",
   "nbconvert_exporter": "python",
   "pygments_lexer": "ipython3",
   "version": "3.9.16"
  }
 },
 "nbformat": 4,
 "nbformat_minor": 2
}
