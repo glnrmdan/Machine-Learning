{
 "cells": [
  {
   "cell_type": "code",
   "execution_count": 1,
   "metadata": {},
   "outputs": [],
   "source": [
    "# CNN flows \n",
    "# 1. Convolutional Layer\n",
    "# 2. Activation Function\n",
    "# 3. Pooling Layer\n",
    "# 4. Fully Connected Layer\n",
    "\n",
    "# for convolutional layer we will use gaussian filter only\n",
    "# for activation function we will use ReLU\n",
    "# for pooling layer we will use max pooling\n",
    "# for fully connected layer we will use softmax (MNIST dataset)"
   ]
  },
  {
   "cell_type": "code",
   "execution_count": 4,
   "metadata": {},
   "outputs": [],
   "source": [
    "import numpy as np\n",
    "import cv2"
   ]
  },
  {
   "cell_type": "code",
   "execution_count": 8,
   "metadata": {},
   "outputs": [],
   "source": [
    "# For Convolution and Max Pooling Functions\n",
    "def convolve2d(image, kernel, stride=(1, 1), padding=0):\n",
    "    image_np = np.array(image)\n",
    "    image_padded = cv2.copyMakeBorder(image_np, padding, padding, padding, padding, cv2.BORDER_CONSTANT, value=0)\n",
    "    \n",
    "    output = cv2.filter2D(image_padded, -1, kernel, delta=0, borderType=cv2.BORDER_CONSTANT)\n",
    "    output = np.maximum(output, 0)\n",
    "    output = output[::stride[0], ::stride[1]]\n",
    "    return output\n",
    "\n",
    "def max_pooling(input_data, pool_size=(2, 2), stride=(2, 2)):\n",
    "    input_height, input_width, input_channels = input_data.shape\n",
    "    pool_height, pool_width = pool_size\n",
    "    stride_height, stride_width = stride\n",
    "\n",
    "    output_height = (input_height - pool_height) // stride_height + 1\n",
    "    output_width = (input_width - pool_width) // stride_width + 1\n",
    "\n",
    "    pooled_output = np.zeros((output_height, output_width, input_channels))\n",
    "\n",
    "    for h in range(output_height):\n",
    "        for w in range(output_width):\n",
    "            h_start = h * stride_height\n",
    "            h_end = h_start + pool_height\n",
    "            w_start = w * stride_width\n",
    "            w_end = w_start + pool_width\n",
    "            for c in range(input_channels):\n",
    "                patch = input_data[h_start:h_end, w_start:w_end, c]\n",
    "                pooled_output[h, w, c] = np.max(patch)\n",
    "    return pooled_output"
   ]
  },
  {
   "cell_type": "code",
   "execution_count": 32,
   "metadata": {},
   "outputs": [],
   "source": [
    "# For Fully Connected Layer (Neural Network) Functions\n",
    "# Neural Network 1 Hidden Layer\n",
    "class NeuralNetwork:\n",
    "    def __init__(self, input, hidden, output):\n",
    "        self.input = input\n",
    "        self.hidden = hidden\n",
    "        self.output = output\n",
    "        \n",
    "        self.weights1 = np.random.rand(self.input, self.hidden)\n",
    "        self.weights2 = np.random.rand(self.hidden, self.output)\n",
    "        self.bias1 = np.random.rand(1, self.hidden)\n",
    "        self.bias2 = np.random.rand(1, self.output)\n",
    "        \n",
    "    def feedforward(self, X):\n",
    "        self.z1 = np.dot(X, self.weights1) + self.bias1\n",
    "        self.a1 = self.relu(self.z1)\n",
    "        self.z2 = np.dot(self.a1, self.weights2) + self.bias2\n",
    "        self.a2 = self.softmax(self.z2)\n",
    "        return self.a2\n",
    "    \n",
    "    def relu(self, x):\n",
    "        return np.maximum(0, x)\n",
    "    \n",
    "    def relu_derivative(self, x):\n",
    "        return 1. * (x > 0)\n",
    "    \n",
    "    def softmax(self, x):\n",
    "        exps = np.exp(x - x.max())\n",
    "        return exps / np.sum(exps, axis=1, keepdims=True)\n",
    "    \n",
    "    def backpropagation(self, X, y, learning_rate):\n",
    "        m = X.shape[0]\n",
    "        \n",
    "        dz2 = self.a2 - y\n",
    "        dw2 = np.dot(self.a1.T, dz2) / m\n",
    "        db2 = np.sum(dz2, axis=0, keepdims=True) / m\n",
    "        \n",
    "        dz1 = np.dot(dz2, self.weights2.T) * self.relu_derivative(self.z1)\n",
    "        dw1 = np.dot(X.T, dz1) / m\n",
    "        db1 = np.sum(dz1, axis=0, keepdims=True) / m\n",
    "        \n",
    "        self.weights1 = self.weights1 - learning_rate * dw1\n",
    "        self.bias1 = self.bias1 - learning_rate * db1\n",
    "        self.weights2 = self.weights2 - learning_rate * dw2\n",
    "        self.bias2 = self.bias2 - learning_rate * db2\n",
    "        \n",
    "    def train(self, X, y, learning_rate):\n",
    "        self.feedforward(X)\n",
    "        self.backpropagation(X, y, learning_rate)\n",
    "            \n",
    "    def predict(self, X):\n",
    "        return self.feedforward(X)"
   ]
  },
  {
   "cell_type": "code",
   "execution_count": 33,
   "metadata": {},
   "outputs": [],
   "source": [
    "# import MNIST dataset\n",
    "from keras.datasets import mnist\n",
    "from keras.utils import np_utils\n",
    "\n",
    "(X_train, y_train), (X_test, y_test) = mnist.load_data()"
   ]
  },
  {
   "cell_type": "code",
   "execution_count": 34,
   "metadata": {},
   "outputs": [
    {
     "data": {
      "image/png": "[encoded data removed]",
      "text/plain": [
       "<Figure size 640x480 with 9 Axes>"
      ]
     },
     "metadata": {},
     "output_type": "display_data"
    }
   ],
   "source": [
    "# plot the first 9 images\n",
    "import matplotlib.pyplot as plt\n",
    "for i in range(9):\n",
    "    plt.subplot(330 + 1 + i)\n",
    "    plt.imshow(X_train[i], cmap=plt.get_cmap('gray'))"
   ]
  },
  {
   "cell_type": "code",
   "execution_count": 35,
   "metadata": {},
   "outputs": [],
   "source": [
    "# Preprocessing\n",
    "X_train = X_train.reshape(X_train.shape[0], 28, 28, 1)\n",
    "X_test = X_test.reshape(X_test.shape[0], 28, 28, 1)\n",
    "X_train = X_train.astype('float32')\n",
    "X_test = X_test.astype('float32')\n",
    "X_train /= 255\n",
    "X_test /= 255\n",
    "y_train = np_utils.to_categorical(y_train, 10)\n",
    "y_test = np_utils.to_categorical(y_test, 10)"
   ]
  },
  {
   "cell_type": "code",
   "execution_count": 36,
   "metadata": {},
   "outputs": [],
   "source": [
    "# Convolutional Layer\n",
    "# Gaussian Filter\n",
    "gaussian_filter = np.array([[1, 2, 1],\n",
    "                            [2, 4, 2],\n",
    "                            [1, 2, 1]]) / 16"
   ]
  },
  {
   "cell_type": "code",
   "execution_count": 30,
   "metadata": {},
   "outputs": [],
   "source": [
    "# Activation Function\n",
    "def ReLU(x):\n",
    "    return np.maximum(0, x)\n",
    "\n",
    "# Pooling Layer\n",
    "# Max Pooling\n",
    "pool_size = (2, 2)\n",
    "stride = (2, 2)\n",
    "\n",
    "# Fully Connected Layer\n",
    "input_layer = 14 * 14\n",
    "hidden_layer = 128\n",
    "output_layer = 10"
   ]
  },
  {
   "cell_type": "code",
   "execution_count": null,
   "metadata": {},
   "outputs": [],
   "source": [
    "# Train the model\n",
    "nn = NeuralNetwork(input_layer, hidden_layer, output_layer)\n",
    "X_train_flatten = X_train.reshape(X_train.shape[0], -1)\n",
    "nn.train(X_train_flatten, y_train, 0.01, 1000)"
   ]
  }
 ],
 "metadata": {
  "kernelspec": {
   "display_name": "tensorflow",
   "language": "python",
   "name": "python3"
  },
  "language_info": {
   "codemirror_mode": {
    "name": "ipython",
    "version": 3
   },
   "file_extension": ".py",
   "mimetype": "text/x-python",
   "name": "python",
   "nbconvert_exporter": "python",
   "pygments_lexer": "ipython3",
   "version": "3.9.16"
  }
 },
 "nbformat": 4,
 "nbformat_minor": 2
}
